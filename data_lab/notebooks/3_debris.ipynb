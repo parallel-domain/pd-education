version https://git-lfs.github.com/spec/v1
oid sha256:456e8330c4b9831850096cff960306cb728c46040dcecfd58eef249a394d21d6
size 16496291
