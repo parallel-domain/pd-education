version https://git-lfs.github.com/spec/v1
oid sha256:b961dde9760fcb3ab19d6a486f48257421b1d911c45c07a3c33dfd6c31ca93d9
size 16494532
