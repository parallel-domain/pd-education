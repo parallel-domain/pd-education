version https://git-lfs.github.com/spec/v1
oid sha256:4e473bbd33e89f55c13c2df1c302167f7faccd15886a6fb15b9d9bf9b6edde4d
size 96676900
