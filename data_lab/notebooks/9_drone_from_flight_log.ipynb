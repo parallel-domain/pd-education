version https://git-lfs.github.com/spec/v1
oid sha256:d8a44d4385a20e89e466f087ec11cb532d3b1ef859ad9740f95ebe7e1aedce4a
size 96674260
