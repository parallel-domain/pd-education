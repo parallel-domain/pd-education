version https://git-lfs.github.com/spec/v1
oid sha256:9741b1c1897a84bfd820598f138b41900c6dd42febd2f4b7cdfc201603caf322
size 152509424
