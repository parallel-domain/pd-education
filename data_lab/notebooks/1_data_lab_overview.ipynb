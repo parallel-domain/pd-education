version https://git-lfs.github.com/spec/v1
oid sha256:2c0d67ac69db973426208c201223bdf5230ef8b99244850fadb0950026b538aa
size 98427137
