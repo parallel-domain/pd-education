version https://git-lfs.github.com/spec/v1
oid sha256:9b88085fab0243378d55aa740693d558429b2f94feb0988b227a2142c069d2ea
size 17994717
