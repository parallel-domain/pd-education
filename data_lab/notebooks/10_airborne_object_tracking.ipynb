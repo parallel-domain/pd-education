version https://git-lfs.github.com/spec/v1
oid sha256:ef668c2ca7a71b395dd94a0b5af5574412b8c1f0eb5d9b4bcaacb8ce8dacc49d
size 31909473
