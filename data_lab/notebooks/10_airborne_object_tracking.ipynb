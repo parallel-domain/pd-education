version https://git-lfs.github.com/spec/v1
oid sha256:33468c6d01db940e8d86b821b9cd2701d89c720453f47caaa270b2b1b135e9fa
size 31909501
