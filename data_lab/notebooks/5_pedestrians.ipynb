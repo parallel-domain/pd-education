version https://git-lfs.github.com/spec/v1
oid sha256:efd7f3b44db219cb133eacbf845f423c2aaf95db5dcd612f0513c6695441be6c
size 29489901
