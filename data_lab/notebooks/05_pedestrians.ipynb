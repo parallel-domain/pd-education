version https://git-lfs.github.com/spec/v1
oid sha256:2f0d5a028b76786b2863e277186bf19d5eedb2eb31e00621e1f27c796a2ca58e
size 29492588
