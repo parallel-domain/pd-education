version https://git-lfs.github.com/spec/v1
oid sha256:46c48d9a32b5522b486f54a81ca2e1ffc8048d9679fd8827994542cd6e0dd2e3
size 385305846
