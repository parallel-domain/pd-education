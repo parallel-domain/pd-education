version https://git-lfs.github.com/spec/v1
oid sha256:cd9eee662fefa6d8dea145472ac4af0b44dd5275554aaadf54b5124e187ec48e
size 32065643
