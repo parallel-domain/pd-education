version https://git-lfs.github.com/spec/v1
oid sha256:b52b9cbe8c7af2c7b728f5c773ef9f0ef2d159755b67b78d4d47986383debc54
size 5582662
