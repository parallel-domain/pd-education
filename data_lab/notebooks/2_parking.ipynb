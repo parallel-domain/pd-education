version https://git-lfs.github.com/spec/v1
oid sha256:38adcb2ab46aec68d2c55b38f53e1d43aba99538f2ec829705325863f96c24f2
size 392335763
