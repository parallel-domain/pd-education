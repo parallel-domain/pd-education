version https://git-lfs.github.com/spec/v1
oid sha256:0292cf456acb00591d0ec9f9820542a6be680236f06b68a58f933a857c461fd4
size 385304285
