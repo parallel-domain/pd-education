version https://git-lfs.github.com/spec/v1
oid sha256:b58076e559e3d661be5e211eea7a198d69c456a3b92b02f37cc911667f601ae7
size 96676925
